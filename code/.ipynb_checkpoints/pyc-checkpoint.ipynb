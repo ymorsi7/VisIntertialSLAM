{
 "cells": [
  {
   "cell_type": "code",
   "execution_count": 2,
   "id": "4e9d3831-c954-4901-b17a-036d97552973",
   "metadata": {},
   "outputs": [
    {
     "name": "stdout",
     "output_type": "stream",
     "text": [
      "['feature_detection_utils.cpython-313.pyc', 'feature_detection.cpython-313.pyc', 'pr3_utils.cpython-313.pyc', 'additional_utils.cpython-313.pyc', 'slam_helpers.cpython-313.pyc', 'main_utils.cpython-313.pyc']\n"
     ]
    }
   ],
   "source": [
    "import py_compile\n",
    "import os\n",
    "\n",
    "py_compile.compile('feature_detection.py')\n",
    "py_compile.compile('main_utils.py')\n",
    "py_compile.compile('pr3_utils.py')\n",
    "print(os.listdir('__pycache__'))"
   ]
  },
  {
   "cell_type": "code",
   "execution_count": 3,
   "id": "b6bbe88d-4355-4c3e-a252-fa224927caf7",
   "metadata": {},
   "outputs": [
    {
     "name": "stdout",
     "output_type": "stream",
     "text": [
      "Moved __pycache__/feature_detection_utils.cpython-313.pyc to feature_detection_utils.pyc\n",
      "Moved __pycache__/feature_detection.cpython-313.pyc to feature_detection.pyc\n",
      "Moved __pycache__/pr3_utils.cpython-313.pyc to pr3_utils.pyc\n",
      "Moved __pycache__/additional_utils.cpython-313.pyc to additional_utils.pyc\n",
      "Moved __pycache__/slam_helpers.cpython-313.pyc to slam_helpers.pyc\n",
      "Moved __pycache__/main_utils.cpython-313.pyc to main_utils.pyc\n"
     ]
    }
   ],
   "source": [
    "import shutil\n",
    "import glob\n",
    "\n",
    "pyc_files = glob.glob('__pycache__/*.pyc')\n",
    "\n",
    "for pyc_file in pyc_files:\n",
    "    base_name = os.path.basename(pyc_file)\n",
    "    \n",
    "    module_name = base_name.split('.')[0]\n",
    "    \n",
    "    new_path = f'{module_name}.pyc'\n",
    "    \n",
    "    # Move the file\n",
    "    shutil.copy(pyc_file, new_path)\n",
    "    print(f\"Moved {pyc_file} to {new_path}\")"
   ]
  },
  {
   "cell_type": "code",
   "execution_count": 4,
   "id": "4a686699-f7ff-4b19-851f-51de42f4f649",
   "metadata": {},
   "outputs": [],
   "source": [
    "# Create a simple __init__.py file in the code directory\n",
    "with open('__init__.py', 'w') as f:\n",
    "    pass"
   ]
  },
  {
   "cell_type": "code",
   "execution_count": 5,
   "id": "e663f36a-e60c-4758-9f48-f8cd265b0fa5",
   "metadata": {},
   "outputs": [],
   "source": [
    "import sys\n",
    "import importlib.machinery\n",
    "import importlib.util\n",
    "\n",
    "loader1 = importlib.machinery.SourcelessFileLoader('feature_detection', 'feature_detection.pyc')\n",
    "spec1 = importlib.util.spec_from_loader('feature_detection', loader1)\n",
    "feature_detection = importlib.util.module_from_spec(spec1)\n",
    "loader1.exec_module(feature_detection)\n",
    "\n",
    "loader2 = importlib.machinery.SourcelessFileLoader('main_utils', 'main_utils.pyc')\n",
    "spec2 = importlib.util.spec_from_loader('main_utils', loader2)\n",
    "main_utils = importlib.util.module_from_spec(spec2)\n",
    "loader2.exec_module(main_utils)\n",
    "\n",
    "loader3 = importlib.machinery.SourcelessFileLoader('pr3_utils', 'pr3_utils.pyc')\n",
    "spec3 = importlib.util.spec_from_loader('pr3_utils', loader3)\n",
    "pr3_utils = importlib.util.module_from_spec(spec3)\n",
    "loader3.exec_module(pr3_utils)\n"
   ]
  },
  {
   "cell_type": "code",
   "execution_count": 6,
   "id": "495ead83-65cc-444f-9d07-f54b70090d05",
   "metadata": {},
   "outputs": [],
   "source": [
    "from feature_detection import *\n",
    "from main_utils import *\n",
    "from pr3_utils import *"
   ]
  },
  {
   "cell_type": "code",
   "execution_count": null,
   "id": "8fc22e0a-2673-4740-bd70-cfae0cd23339",
   "metadata": {},
   "outputs": [],
   "source": [
    "# import os\n",
    "# os.remove('code/feature_detection.py')\n",
    "# os.remove('code/main_utils.py')\n",
    "# os.remove('code/pr3_utils.py')"
   ]
  }
 ],
 "metadata": {
  "kernelspec": {
   "display_name": "Python 3 (ipykernel)",
   "language": "python",
   "name": "python3"
  },
  "language_info": {
   "codemirror_mode": {
    "name": "ipython",
    "version": 3
   },
   "file_extension": ".py",
   "mimetype": "text/x-python",
   "name": "python",
   "nbconvert_exporter": "python",
   "pygments_lexer": "ipython3",
   "version": "3.13.2"
  }
 },
 "nbformat": 4,
 "nbformat_minor": 5
}
